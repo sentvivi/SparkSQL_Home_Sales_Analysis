


import os
# Find the latest version of spark 3.x  from http://www.apache.org/dist/spark/ and enter as the spark version
# For example:
# spark_version = 'spark-3.5.0'
spark_version = 'spark-3.5.0'
os.environ['SPARK_VERSION']=spark_version

# Install Spark and Java
!apt-get update
!apt-get install openjdk-11-jdk-headless -qq > /dev/null
!wget -q http://www.apache.org/dist/spark/$SPARK_VERSION/$SPARK_VERSION-bin-hadoop3.tgz
!tar xf $SPARK_VERSION-bin-hadoop3.tgz
!pip install -q findspark

# Set Environment Variables
os.environ["JAVA_HOME"] = "/usr/lib/jvm/java-11-openjdk-amd64"
os.environ["SPARK_HOME"] = f"/content/{spark_version}-bin-hadoop3"

# Start a SparkSession
import findspark
findspark.init()


# Import packages
from pyspark.sql import SparkSession
import time

# Create a SparkSession
spark = SparkSession.builder.appName("SparkSQL").getOrCreate()


# 1. Read in the AWS S3 bucket into a DataFrame.
from pyspark import SparkFiles
url = "https://2u-data-curriculum-team.s3.amazonaws.com/dataviz-classroom/v1.2/22-big-data/home_sales_revised.csv"




spark.sparkContext.addFile(url)
df = spark.read.csv(SparkFiles.get("home_sales_revised.csv"), sep=",", header=True)
df.show()


# 2. Create a temporary view of the DataFrame.
df.createOrReplaceTempView('home_sales')


# 3. What is the average price for a four bedroom house sold in each year rounded to two decimal places?
avg_price_4_bedroom = spark.sql("""
SELECT YEAR(date) AS Year_Sold, ROUND(AVG(price), 2) AS Average_Price
FROM home_sales
WHERE bedrooms = 4
GROUP BY YEAR(date)
ORDER BY YEAR(date)
""")
avg_price_4_bedroom.show()


# 4. What is the average price of a home for each year the home was built that have 3 bedrooms and 3 bathrooms rounded to two decimal places?
avg_price_3_bed_3_bath = spark.sql("""
SELECT date_built AS Date_Built, ROUND(AVG(price),2) AS Average_Price
FROM home_sales where bedrooms == 3 AND bathrooms == 3
GROUP BY date_built
ORDER BY date_built
""")
avg_price_3_bed_3_bath.show()


# 5. What is the average price of a home for each year built that have 3 bedrooms, 3 bathrooms, with two floors,
# and are greater than or equal to 2,000 square feet rounded to two decimal places?
avg_price_3_bed_3_bath_2_floors = spark.sql("""
SELECT date_built AS Date_Built, ROUND(AVG(price),2) AS Average_Price
FROM home_sales
WHERE bedrooms == 3 AND bathrooms == 3 AND floors == 2 AND sqft_living >= 2000
GROUP BY date_built
ORDER BY date_built
""")
avg_price_3_bed_3_bath_2_floors.show()


# 6. What is the "view" rating for the average price of a home, rounded to two decimal places, where the homes are greater than
# or equal to $350,000? Although this is a small dataset, determine the run time for this query.

start_time = time.time()

spark.sql("""
SELECT view AS View, ROUND(AVG(price),2) AS Average_Price
FROM home_sales
WHERE price >= 350000
GROUP BY view
ORDER BY view""").show()

print("--- %s seconds ---" % (time.time() - start_time))



# 7. Cache the the temporary table home_sales.
spark.sql("cache table home_sales")


# 8. Check if the table is cached.
spark.catalog.isCached('home_sales')


# 9. Using the cached data, run the query that filters out the view ratings with average price
#  greater than or equal to $350,000. Determine the runtime and compare it to uncached runtime.

start_time = time.time()

spark.sql("""
SELECT view AS View, ROUND(AVG(price),2) AS Average_Price
FROM home_sales
WHERE price >= 350000
GROUP BY view
ORDER by view
""").show()

print("--- %s seconds ---" % (time.time() - start_time))


# 10. Partition by the "date_built" field on the formatted parquet home sales data
df.write.partitionBy("date_built").parquet('home_parquet', mode='overwrite')


# 11. Read the parquet formatted data.
parquet_df = spark.read.parquet('home_parquet')


# 12. Create a temporary table for the parquet data.
parquet_df.createOrReplaceTempView('parquet_temp_home')


# 13. Run the query that filters out the view ratings with average price of greater than or equal to $350,000
# with the parquet DataFrame. Round your average to two decimal places.
# Determine the runtime and compare it to the cached version.

start_time = time.time()

spark.sql("""
SELECT view AS View, ROUND(AVG(price),2) AS Average_Price
FROM parquet_temp_home
WHERE price >= 350000
GROUP BY view
ORDER BY view
""").show()

print("--- %s seconds ---" % (time.time() - start_time))


# 14. Uncache the home_sales temporary table.
spark.sql('uncache table home_sales')


# 15. Check if the home_sales is no longer cached
spark.catalog.isCached('home_sales')



